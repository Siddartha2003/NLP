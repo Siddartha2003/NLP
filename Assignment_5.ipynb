{
  "nbformat": 4,
  "nbformat_minor": 0,
  "metadata": {
    "colab": {
      "provenance": [],
      "authorship_tag": "ABX9TyO6ezEn7QO0YYQfqQp7wDSo",
      "include_colab_link": true
    },
    "kernelspec": {
      "name": "python3",
      "display_name": "Python 3"
    },
    "language_info": {
      "name": "python"
    }
  },
  "cells": [
    {
      "cell_type": "markdown",
      "metadata": {
        "id": "view-in-github",
        "colab_type": "text"
      },
      "source": [
        "<a href=\"https://colab.research.google.com/github/Siddartha2003/NLP/blob/main/Assignment_5.ipynb\" target=\"_parent\"><img src=\"https://colab.research.google.com/assets/colab-badge.svg\" alt=\"Open In Colab\"/></a>"
      ]
    },
    {
      "cell_type": "markdown",
      "source": [
        "1. Implement a Hidden Markov Model (HMM) for weather forecasting, taking scenario where we have hidden weather states (e.g., \"Sunny\" and \"Rainy\") and observable events (e.g., \"Dry\", \"Damp\", \"Wet\"). The goal is to predict the sequence of weather states based on the observations."
      ],
      "metadata": {
        "id": "vHseRW39Ei5p"
      }
    },
    {
      "cell_type": "code",
      "execution_count": 4,
      "metadata": {
        "id": "xQsxxKu-Eg0N"
      },
      "outputs": [],
      "source": [
        "A = {\n",
        "    'Sunny': {'Sunny': 0.8, 'Rainy': 0.2},\n",
        "    'Rainy': {'Sunny': 0.4, 'Rainy': 0.6}\n",
        "}"
      ]
    },
    {
      "cell_type": "code",
      "source": [
        "B = {\n",
        "    'Sunny': {'Dry': 0.6, 'Damp': 0.3, 'Wet': 0.1},\n",
        "    'Rainy': {'Dry': 0.1, 'Damp': 0.4, 'Wet': 0.5}\n",
        "}"
      ],
      "metadata": {
        "id": "sj1MocXtEhg0"
      },
      "execution_count": 5,
      "outputs": []
    },
    {
      "cell_type": "code",
      "source": [
        "π = {'Sunny': 0.5, 'Rainy': 0.5}\n",
        "def viterbi(obs, states, start_p, trans_p, emit_p):\n",
        "    V = [{}]\n",
        "    path = {}\n",
        "\n",
        "    for state in states:\n",
        "        V[0][state] = start_p[state] * emit_p[state].get(obs[0], 0)\n",
        "        path[state] = [state]\n",
        "\n",
        "    for t in range(1, len(obs)):\n",
        "        V.append({})\n",
        "        new_path = {}\n",
        "\n",
        "        for state in states:\n",
        "            (prob, prev_state) = max(\n",
        "                (V[t-1][prev_state] * trans_p[prev_state].get(state, 0) * emit_p[state].get(obs[t], 0), prev_state)\n",
        "                for prev_state in states\n",
        "            )\n",
        "            V[t][state] = prob\n",
        "            new_path[state] = path[prev_state] + [state]\n",
        "\n",
        "        path = new_path\n",
        "\n",
        "    n = len(obs) - 1\n",
        "    (prob, state) = max((V[n][state], state) for state in states)\n",
        "\n",
        "    return path[state], prob\n",
        "\n",
        "observations = ['Dry', 'Damp', 'Wet']\n",
        "states = ['Sunny', 'Rainy']\n",
        "start_p = π\n",
        "trans_p = A\n",
        "emit_p = B\n",
        "\n",
        "most_likely_states, probability = viterbi(observations, states, start_p, trans_p, emit_p)\n",
        "print(f\"Most likely sequence of states: {most_likely_states}\")\n",
        "print(f\"Probability of the sequence: {probability}\")"
      ],
      "metadata": {
        "colab": {
          "base_uri": "https://localhost:8080/"
        },
        "id": "D5O5XbwVE3P-",
        "outputId": "015522f8-b982-462e-eb61-14c1d482fad1"
      },
      "execution_count": 6,
      "outputs": [
        {
          "output_type": "stream",
          "name": "stdout",
          "text": [
            "Most likely sequence of states: ['Sunny', 'Sunny', 'Rainy']\n",
            "Probability of the sequence: 0.0072\n"
          ]
        }
      ]
    },
    {
      "cell_type": "markdown",
      "source": [
        "2. Problem Setup\n",
        " i) States (S): Hidden states representing the weather (e.g., \"Sunny\", \"Rainy\").\n",
        "Observations (O): Observable events that we can measure (e.g., \"Dry\", \"Damp\", \"Wet\").\n",
        " ii) Transition Probabilities (A): The probability of transitioning from one weather state to another.\n",
        " iii) Emission Probabilities (B): The probability of observing a certain event given the weather state.\n",
        " iv) Initial Probabilities (π): The probability distribution over the initial states.\n",
        " Take different transition and emission probabilities or observation sequences on above problem and see how the model's predictions change."
      ],
      "metadata": {
        "id": "y5JtUTpxFQxv"
      }
    },
    {
      "cell_type": "code",
      "source": [
        "observation_sequence_new = ['Dry', 'Damp', 'Wet']\n",
        "import numpy as np\n",
        "\n",
        "states = ['Sunny', 'Rainy']\n",
        "observations = ['Dry', 'Damp', 'Wet']\n",
        "\n",
        "A_new = {\n",
        "    'Sunny': {'Sunny': 0.6, 'Rainy': 0.4},\n",
        "    'Rainy': {'Sunny': 0.3, 'Rainy': 0.7}\n",
        "}\n",
        "\n",
        "B_new = {\n",
        "    'Sunny': {'Dry': 0.7, 'Damp': 0.2, 'Wet': 0.1},\n",
        "    'Rainy': {'Dry': 0.2, 'Damp': 0.3, 'Wet': 0.5}\n",
        "}\n",
        "\n",
        "π_new = {'Sunny': 0.6, 'Rainy': 0.4}\n",
        "\n",
        "def viterbi(obs, states, start_p, trans_p, emit_p):\n",
        "    V = [{}]\n",
        "    path = {}\n",
        "\n",
        "    for state in states:\n",
        "        V[0][state] = start_p[state] * emit_p[state].get(obs[0], 0)\n",
        "        path[state] = [state]\n",
        "\n",
        "    for t in range(1, len(obs)):\n",
        "        V.append({})\n",
        "        new_path = {}\n",
        "\n",
        "        for curr_state in states:\n",
        "            (prob, prev_state) = max(\n",
        "                (V[t-1][prev_state] * trans_p[prev_state].get(curr_state, 0) * emit_p[curr_state].get(obs[t], 0), prev_state)\n",
        "                for prev_state in states\n",
        "            )\n",
        "            V[t][curr_state] = prob\n",
        "            new_path[curr_state] = path[prev_state] + [curr_state]\n",
        "\n",
        "        path = new_path\n",
        "\n",
        "    n = len(obs) - 1\n",
        "    (prob, state) = max((V[n][state], state) for state in states)\n",
        "\n",
        "    return path[state], prob\n",
        "\n",
        "observation_sequence_new = ['Dry', 'Damp', 'Wet']\n",
        "most_likely_states_new, probability_new = viterbi(observation_sequence_new, states, π_new, A_new, B_new)\n",
        "\n",
        "print(f\"With new parameters:\")\n",
        "print(f\"Most likely sequence of states: {most_likely_states_new}\")\n",
        "print(f\"Probability of the sequence: {probability_new}\")"
      ],
      "metadata": {
        "colab": {
          "base_uri": "https://localhost:8080/"
        },
        "id": "6Hhuuxk4Fhiv",
        "outputId": "d45d482b-f7c4-4f82-de96-c0440767f41d"
      },
      "execution_count": 7,
      "outputs": [
        {
          "output_type": "stream",
          "name": "stdout",
          "text": [
            "With new parameters:\n",
            "Most likely sequence of states: ['Sunny', 'Rainy', 'Rainy']\n",
            "Probability of the sequence: 0.01764\n"
          ]
        }
      ]
    },
    {
      "cell_type": "code",
      "source": [
        "observation_sequence_diff = ['Wet', 'Damp', 'Dry']\n",
        "observation_sequence_diff = ['Wet', 'Damp', 'Dry']\n",
        "most_likely_states_diff, probability_diff = viterbi(observation_sequence_diff, states, π_new, A_new, B_new)\n",
        "\n",
        "print(f\"With different observation sequence:\")\n",
        "print(f\"Most likely sequence of states: {most_likely_states_diff}\")\n",
        "print(f\"Probability of the sequence: {probability_diff}\")"
      ],
      "metadata": {
        "colab": {
          "base_uri": "https://localhost:8080/"
        },
        "id": "ZCAc-5SCMTTX",
        "outputId": "4f4ba443-4642-494b-8f18-e837b5044a22"
      },
      "execution_count": 8,
      "outputs": [
        {
          "output_type": "stream",
          "name": "stdout",
          "text": [
            "With different observation sequence:\n",
            "Most likely sequence of states: ['Rainy', 'Rainy', 'Sunny']\n",
            "Probability of the sequence: 0.008819999999999998\n"
          ]
        }
      ]
    }
  ]
}